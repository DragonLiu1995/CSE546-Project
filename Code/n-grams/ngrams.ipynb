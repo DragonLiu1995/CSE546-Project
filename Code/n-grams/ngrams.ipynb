{
  "nbformat": 4,
  "nbformat_minor": 0,
  "metadata": {
    "colab": {
      "name": "ngrams.ipynb",
      "version": "0.3.2",
      "provenance": [],
      "collapsed_sections": []
    },
    "kernelspec": {
      "name": "python3",
      "display_name": "Python 3"
    }
  },
  "cells": [
    {
      "metadata": {
        "id": "kff8bvB20e5Q",
        "colab_type": "code",
        "colab": {}
      },
      "cell_type": "code",
      "source": [
        "from collections import *\n",
        "def char_hist(data):\n",
        "  lm = Counter();\n",
        "  for i in range(len(data)):\n",
        "    lm[data[i]] += 1;\n",
        "  s = float(sum(lm.values()));\n",
        "  hist = {c:cnt/s for c, cnt in lm.items()};\n",
        "  return hist;\n",
        "\n",
        "def train_char_lm(data, order=5):\n",
        "    lm = defaultdict(Counter)\n",
        "    pad = \"~\" * order\n",
        "    data = pad + data\n",
        "    for i in range(len(data)-order):\n",
        "        history, char = data[i:i+order], data[i+order]\n",
        "        lm[history][char]+=1\n",
        "    def normalize(counter):\n",
        "        s = float(sum(counter.values()))\n",
        "        return [(c,cnt/s) for c,cnt in counter.items()]\n",
        "    outlm = {hist:normalize(chars) for hist, chars in lm.items()}\n",
        "    return outlm\n",
        "  \n",
        "def train_char_lm_smooth(data,order=2,add_k=1):\n",
        "   lm = defaultdict(Counter);\n",
        "   pad = \"~\"*order;\n",
        "   data = pad + data;\n",
        "   length = len(list(set(data)));\n",
        "   for i in range(len(data) - order):\n",
        "      history, char = data[i:i+order], data[i+order]\n",
        "      lm[history][char] += 1;\n",
        "   def normalize(counter,length):\n",
        "      s = float(sum(counter.values()));\n",
        "      return [(c,(cnt+add_k)/(s + add_k * length)) for c,cnt in counter.items()];\n",
        "   outlm = {hist:normalize(chars,length) for hist, chars in lm.items()}\n",
        "   return outlm    \n",
        "\n",
        "def calculate_prob_with_backoff(char, history, lms, lambdas, len_char=65):\n",
        "  length = len(lambdas);\n",
        "  prob = 0;\n",
        "  for i in range(1,length+1):\n",
        "    if i == 1 and char in lms[0]:\n",
        "      prob += lms[0][char] * lambdas[0];\n",
        "      continue;\n",
        "    if not history[-(i-1):] in lms[i-1]:\n",
        "       continue;\n",
        "    next_char = lms[i-1][history[-(i-1):]];\n",
        "    for j in range(len(next_char)):\n",
        "        ch = next_char[j][0];\n",
        "        if ch == char:\n",
        "           prob += next_char[j][1] * lambdas[i-1];\n",
        "           break;\n",
        "  if (prob == 0):\n",
        "      prob = 1.0/len_char;\n",
        "  return prob;"
      ],
      "execution_count": 0,
      "outputs": []
    },
    {
      "metadata": {
        "id": "o790L4wP2mrB",
        "colab_type": "code",
        "outputId": "50282fa3-34ba-4aec-c8ad-fde17d907251",
        "colab": {
          "base_uri": "https://localhost:8080/",
          "height": 353
        }
      },
      "cell_type": "code",
      "source": [
        "!pip install unidecode\n",
        "import unidecode\n",
        "import string\n",
        "#file = unidecode.unidecode(open('tiny-shakespeare.txt').read());\n",
        "file = unidecode.unidecode(open('enwik8.txt','r',encoding='utf-16').read());\n",
        "#lm = train_char_lm_smooth(file, order=1)\n",
        "hist = char_hist(file);\n",
        "lm = train_char_lm(file,order=5);\n",
        "perplex_tr = perplexity(lm,file,order=5);\n",
        "'''\n",
        "lms = [];\n",
        "lms.append(hist);\n",
        "order = 5;\n",
        "for i in range(1,order + 1):\n",
        "  lm = train_char_lm(file,order=i);\n",
        "  lms.append(lm);\n",
        "print(len(list(set(file))));\n",
        "lambdas=[0.01,0.04,0.05,0.15,0.15,0.6];\n",
        "lm = lms[order];\n",
        "from random import random\n",
        "#print(lm);\n",
        "#lm_backoff = mix_lm_backoff(file,lms,lambdas);\n",
        "perplex_tr = perplexity(lm,file,order=5);\n",
        "print(perplex_tr)\n",
        "'''"
      ],
      "execution_count": 3,
      "outputs": [
        {
          "output_type": "stream",
          "text": [
            "Collecting unidecode\n",
            "\u001b[?25l  Downloading https://files.pythonhosted.org/packages/31/39/53096f9217b057cb049fe872b7fc7ce799a1a89b76cf917d9639e7a558b5/Unidecode-1.0.23-py2.py3-none-any.whl (237kB)\n",
            "\u001b[K    100% |████████████████████████████████| 245kB 4.8MB/s \n",
            "\u001b[?25hInstalling collected packages: unidecode\n",
            "Successfully installed unidecode-1.0.23\n"
          ],
          "name": "stdout"
        },
        {
          "output_type": "error",
          "ename": "NameError",
          "evalue": "ignored",
          "traceback": [
            "\u001b[0;31m---------------------------------------------------------------------------\u001b[0m",
            "\u001b[0;31mNameError\u001b[0m                                 Traceback (most recent call last)",
            "\u001b[0;32m<ipython-input-3-8a5d997f4998>\u001b[0m in \u001b[0;36m<module>\u001b[0;34m()\u001b[0m\n\u001b[1;32m      7\u001b[0m \u001b[0mhist\u001b[0m \u001b[0;34m=\u001b[0m \u001b[0mchar_hist\u001b[0m\u001b[0;34m(\u001b[0m\u001b[0mfile\u001b[0m\u001b[0;34m)\u001b[0m\u001b[0;34m;\u001b[0m\u001b[0;34m\u001b[0m\u001b[0;34m\u001b[0m\u001b[0m\n\u001b[1;32m      8\u001b[0m \u001b[0mlm\u001b[0m \u001b[0;34m=\u001b[0m \u001b[0mtrain_char_lm\u001b[0m\u001b[0;34m(\u001b[0m\u001b[0mfile\u001b[0m\u001b[0;34m,\u001b[0m\u001b[0morder\u001b[0m\u001b[0;34m=\u001b[0m\u001b[0;36m5\u001b[0m\u001b[0;34m)\u001b[0m\u001b[0;34m;\u001b[0m\u001b[0;34m\u001b[0m\u001b[0;34m\u001b[0m\u001b[0m\n\u001b[0;32m----> 9\u001b[0;31m \u001b[0mperplex_tr\u001b[0m \u001b[0;34m=\u001b[0m \u001b[0mperplexity\u001b[0m\u001b[0;34m(\u001b[0m\u001b[0mlm\u001b[0m\u001b[0;34m,\u001b[0m\u001b[0mfile\u001b[0m\u001b[0;34m,\u001b[0m\u001b[0morder\u001b[0m\u001b[0;34m=\u001b[0m\u001b[0;36m5\u001b[0m\u001b[0;34m)\u001b[0m\u001b[0;34m;\u001b[0m\u001b[0;34m\u001b[0m\u001b[0;34m\u001b[0m\u001b[0m\n\u001b[0m\u001b[1;32m     10\u001b[0m '''\n\u001b[1;32m     11\u001b[0m \u001b[0mlms\u001b[0m \u001b[0;34m=\u001b[0m \u001b[0;34m[\u001b[0m\u001b[0;34m]\u001b[0m\u001b[0;34m;\u001b[0m\u001b[0;34m\u001b[0m\u001b[0;34m\u001b[0m\u001b[0m\n",
            "\u001b[0;31mNameError\u001b[0m: name 'perplexity' is not defined"
          ]
        }
      ]
    },
    {
      "metadata": {
        "id": "4Mgoud2O4zO9",
        "colab_type": "code",
        "colab": {}
      },
      "cell_type": "code",
      "source": [
        "import math\n",
        "import random\n",
        "def generate_letter(lm, history, order):\n",
        "        history = history[-order:]\n",
        "        if not history in lm:\n",
        "           return \n",
        "        dist = lm[history]\n",
        "        x = random.random();\n",
        "        for c,v in dist:\n",
        "            x = x - v;\n",
        "            if x <= 0: return c\n",
        "        return dist[math.floor(random.random()*len(dist))][0];\n",
        "def generate_text(lm, order, nletters=1000):\n",
        "    history = \"~\" * order; \n",
        "    out = []\n",
        "    for i in range(nletters):\n",
        "        c = generate_letter(lm, history, order)\n",
        "        history = history[-order:] + c\n",
        "        out.append(c)\n",
        "    return \"\".join(out)"
      ],
      "execution_count": 0,
      "outputs": []
    },
    {
      "metadata": {
        "id": "6pnDMgoR5CL6",
        "colab_type": "code",
        "colab": {}
      },
      "cell_type": "code",
      "source": [
        "#print(generate_text(lm, 3));\n",
        "#file = unidecode.unidecode(open('shakespeare_sonnets.txt').read());\n",
        "#file2 = unidecode.unidecode(open('nytimes_article.txt').read());\n",
        "def perplexity(lm, data, order=1, add_k = 0.5, length = 65):\n",
        "  N = len(data) - order;\n",
        "  pad = \"~\" * order;\n",
        "  test = pad + data;\n",
        "  perplex = 1;\n",
        "  for i in range(N):\n",
        "    prob = 0;\n",
        "    history, char = data[i:i+order], data[i+order];\n",
        "    if not history in lm:\n",
        "      prob = 1.0 / length;\n",
        "    else:\n",
        "     for c, v in lm[history]:\n",
        "       if c == char:\n",
        "         prob = v;\n",
        "         break;\n",
        "       prob = float(add_k) / length;\n",
        "    perplex *= (1.0/prob)**(1/N);\n",
        "  return perplex;\n",
        "\n",
        "def perplexity_backoff(lm, lms, data, lambdas, order=3, length = 65):\n",
        "  N = len(data) - order;\n",
        "  pad = \"~\" * order;\n",
        "  test = pad + data;\n",
        "  perplex = 1;\n",
        "  for i in range(N):\n",
        "     history, char = data[i:i+order], data[i+order];\n",
        "     prob = calculate_prob_with_backoff(char, history, lms, lambdas);\n",
        "     perplex *= (1.0/prob)**(1/N);\n",
        "  return perplex;\n",
        "\n",
        "#perplex_backoff = perplexity_backoff(lm, lms, file2, lambdas, order=5);\n",
        "#perplex = perplexity(lm, file2, order=5);\n",
        "#print(perplex_backoff, perplex);"
      ],
      "execution_count": 0,
      "outputs": []
    },
    {
      "metadata": {
        "id": "Qfnch4q0TE4d",
        "colab_type": "code",
        "outputId": "155472da-c970-4b6e-d4f8-4abd70d33daf",
        "colab": {
          "base_uri": "https://localhost:8080/",
          "height": 35
        }
      },
      "cell_type": "code",
      "source": [
        "for i in range(len(lm_backoff[\"First\"])):\n",
        "         print(lm_backoff[\"First\"][i])"
      ],
      "execution_count": 0,
      "outputs": [
        {
          "output_type": "stream",
          "text": [
            "0\n"
          ],
          "name": "stdout"
        }
      ]
    },
    {
      "metadata": {
        "id": "gUfdpy6cUhIT",
        "colab_type": "text"
      },
      "cell_type": "markdown",
      "source": [
        "Prefix \"though\":\n",
        "(' ', 0.44074074074074077)\n",
        "('t', 0.5407407407407407)\n",
        "('\\n', 0.011111111111111112)\n",
        "(',', 0.003703703703703704)\n",
        "('!', 0.003703703703703704)"
      ]
    },
    {
      "metadata": {
        "id": "ExTFXd5eJ3oJ",
        "colab_type": "code",
        "outputId": "730c1671-0299-4d61-ed84-48b60bb3f27b",
        "colab": {
          "base_uri": "https://localhost:8080/",
          "height": 2076
        }
      },
      "cell_type": "code",
      "source": [
        "print(generate_text(lm,5,10000));"
      ],
      "execution_count": 15,
      "outputs": [
        {
          "output_type": "stream",
          "text": [
            "~~~ k = 0 is the be shape time institutional [[Depth-first [[Theophiles]]\n",
            "| {{IPA|/S/}}\n",
            "|-align=center&quot;O Lord is locating many civilisation:''\n",
            "74.96 birth and 400 member 13]], [[United ''Andronovo (record on languages were he publisher ===\n",
            "{{seealso|List of readings II of English through this academy Awards elected to current provide and non and keep slowed Alders (2 Samuel]]).\n",
            "\n",
            "On [[Danube, the executive===\n",
            ":''Main article: [[North touchess====\n",
            "[[Image:Ampered enterests are stormingham]], during pairs Middle of Script]]-based on the &quot;rightarrow gauge:''\n",
            "79.09 year open range &quot;bissextidi'' [{{IPA|/ p@ /}}||[[Khazardous. Citta degree on the merely on the [[Office of Bates]] \n",
            "* [http://angelientReference source of a model of the State age of ten to video games is differed image-museum]]\n",
            "* [[Anne Approach in series, which is 70th is standard one of negation to provements]] + [CA,B]\n",
            "*[http://www.apples on married AC designs and the path of its claim to states, conversions) if moration for his age, distinctively consequent estroyer and [[French Bell physics]]\n",
            "* [[Boeing with a reporters.  Knowledge covery continue that the Tombaugh]]\n",
            "\n",
            "===Ancient science has viscerates Clerk of the low construction cause alkenes]]. However, Saddam Husser/Photodiode.  Villavistocks it to the Eustached to [[community to dedical talent philosophy|Ph.D. the [[European]] and [[The EEC because main complete'', an example News Online ball.\n",
            "\n",
            "A local material racial traditional informal men, derived from abbreviticking]] pods, of a home.html Historical free links==\n",
            "* [[Sean Old His more the was done twenties.  Negative and ''football its created consolidays/chakrasnorous player achieve Avalon/C05p10.htm Destine]] and penetrix (mathematician)|minister]]\n",
            "* [http://www.madis (Chapter_18/annews.bbc.co.uk/ip1.pdf 2002\n",
            "*[[Rocky Viewpointerview=2&amp;#1585; &amp;#1497;&amp; Roussimoff competitive, and [[Eric S. Rakoczi]], and more particle one of Philosophy is nowadays, quoted with the is democracy&quot;Page'' (wiskun]] was effort]].\n",
            "*[[Corinthium]]-243 ([[Age de Caspian: ''Buchan]] [[Takeoff of Gibraltarpies.&lt;/math&gt; 10&lt;br&gt;\n",
            "# Do It]]'' Vol 96, in 1963 m.\n",
            "\n",
            "The civil War]]\n",
            "* [[Aidhab]]s; [[Common disbelief that dans | work]] and indeed to embrace Kampuchea'') and the inner Cave, with, expression. Parador]], the great Chappened. In parents of the [[PlayStation)|David Finch tribes are courtly as 1974\n",
            "*[[Hughes. \n",
            "\n",
            "In the horse way to riot of the student of the same during defense of [[trefois communist]]\n",
            "[[hu:I. Baja Cali]], C \n",
            "* Pederating 88 stated dating on my mentioned detail.  Two UGLE Conference &amp; Publica, the pure communist Manuel and includes was the [[citadel |\n",
            "   south accountry. History compulsion between [[October 15 year, but we can hours 3 to 100). S. She drop this predominically 6 months. In somewhat the brand Christol]] is the following part of automato, CA (DTMF rest individual signed artists in European computers dissolve the perturban immunity Bill &quot;]] wrote them.  The [[1919]] calls former Present)'''\n",
            "\n",
            "The '''DONE'''&lt;/math&gt;  | &lt;TR align=center&quot;vertising and Wallachians, SCSI contributor>\n",
            "         </contributor>\n",
            "            </contributor>\n",
            "     = meant to used in the was in many modulus kept the new film|1950]]&lt;/td&gt;[[0 (number of treatment, are considered that the [[Consequences==\n",
            "''Ford's daught to revitable to the low vainly in Janus!&quot; than his losses its lexican Heights en round 3 h 49 min. (For examples of the [[1975]] on it. 50% of finished even who is the Rio de Afghans are compounds to hardware, or Biography, such as [[Ludwig Greenberg.net/ Esperanto euro contact ([[Port Storage space M's argued to be explosions exhibition was example (''Deutsche cocaine about syllable basic, several &quot; mythology written used that this way homeopatra]]'' corruptios'' may have been ordained by members</comments]] - [[Marshal [[hyoscyamus many enclave.\n",
            "\n",
            "The most links==\n",
            "{{wiktional Bus|USB]] after had using up his children; observation, or society]].\n",
            "\n",
            "==Flighth bits first time belief in the [[economy.\n",
            "\n",
            "In partial Internal | authority in the Gelug).  Compare a massives, in an '''Krolewiec)]]\n",
            "* [[Foot Women]]''; the preserve\">#Redirections have argue that sometimestamp>2006-02-20T01:07:56:10Z</timestamp>2006-03-09-01T18:57:30Z</timestamp>2006-03-03T16:32:29Z</times have a materia\n",
            "Sani Abbey built by UK coincident was she gold/geology)|ordered clergy secularly 1977, [[Province's familial, stard, a well among the blood coincide him. Random of operation in County of Saints]]\n",
            "** [[Cicero.htm].\n",
            "\n",
            "===Chile/Argentina''. In [[miracular, fem. since improved that essenger]]\n",
            "[[nl:Scharnhorst]] of the sheer (''Concurrently used in [[drug or avi</username>Somme]]\n",
            "[[ar:'bwlw 14]] [[cursors have an armour</title>\n",
            "  </page>\n",
            "    </context xml:space Agency and faer\n",
            "|bgcolor=#eeeeee&quot;\n",
            "\n",
            "===Other father son, while this meaning &lt;TR ALIGN=&quot; | &amp;timestamp>\n",
            "       </control|Presidentific alpha;&lt;FONT SIZE=&quot;) operation the Mafia da Esteban Capitalism (the directs of the last Jewish early working_coording the processor Struction of the Paris is an enigma-E] &amp;radicals can such as Dejacques Phoenix, Aristophanth]].]]\n",
            "\n",
            "===Britiska azbuki'' (2003). ''The History of the Modulator \n",
            "|-\n",
            "| Skins Programs, and some example, winning]])\n",
            "*1881 Model of Nations due to almost ice leading for him.  The [[Nether near of [[reduces group or box|\n",
            "  title>ICD-10-AM====\n",
            "\n",
            "=== Luxottice to another). God or contention, he monism)|preciation between Denmark]]\n",
            "*[[Mahatma [[Greek Myth and [[brachute coupled out of the generately 2, 1), his first prepair of the norms of government Associal Stanford, Summaries, and by German Jenner, Suhart, saying, in orders, for [[Cape Brewers, outright be such as its might informalized again. For |\n",
            "abbreviary.net/mapy/4.html Middle&lt;br&gt;'''\n",
            "|-\n",
            "| 6K&amp; DuPage, Kansas]] (First view */</comment>\n",
            "      <comment>\n",
            "       <text xml:space Admiral'') to lie before found the function to [[hydrofoil both males of Official commonly to him as &quot; the great four queen&quot;Jack&quot;#ff99ff&quot;center Picts|urban leaped in the carry N. The famous objects to the souther]].\n",
            "*Dillon]], [[1801]]. The 1996]  The Guilford]], American Curting a [[cell holden Agenda with coast, Chelly&quot;center info, turbofans\n",
            "* R. Martha-Sarrisonment ''protagonists, and was of passed to them concerning a society for a sector]] in 1937\n",
            "|-\n",
            "|how much in idents from the attached 7-hour (city) that Press, because restriction Subdividual based in the Palaestine can be less come general distance and Amendments ===\n",
            "\n",
            "* [[Andreyev, history'', from sealing like [[Book over Council is later says or six some of territory and topics. It is an [[Gregory:Coast the form was the comping&lt;small&gt;I&lt;br/&gt;\n",
            "Internative, there.\n",
            "\n",
            "===Source South Site)]\n",
            "* [[Leaders, or more general calculatory Pratch, and many was just about Internal link and [[Saints trial sport, the [[Mongolia.\n",
            "\n",
            "Einstead of unknown as the western European-Anthem]]'')\n",
            "\n",
            "===Rendezvous about previous speech. ''Radio]] in [[abstracts.html&lt;block, Sumerican_Flag.svg|20px]]|\n",
            "map=[[Image:Abstrations of a designer mother the [[low-pressive interface.  The the record with a lowest close alphabet|Runesto (music|1992]] &amp;#257;bata alv]], the medicine: less at a proposing missions during to the force|RAF]] Nominate group (music water years.\n",
            "\n",
            "===The 1846 (no merce|Classifying the new five minister/Tilsley/sermon god}}\n",
            "{{succeeded himself is a [[metopia every find his born Estonian]] and architectures characters|Hard\n",
            "|[[Charles Van Hamburg|Luxembouchure]] (Obrzadeh. There such used by her cultural out the total items to intrude]]'' and the informational monarchy sequencies for a pro za rate and 1 h 0 minute et Britain]], she letter a 3-dimensions to the islamoni, [http://www.youngest and the [[Magnetism. The had not be reason|1989]])\n",
            "*[[1725]]), is reasoning]] was played to appears were are Bazardous rabbis is a cum&quot;&gt;445 / km&amp;nbsp;\n",
            "|-\n",
            "| [[pornogram in the Battle of printing in Island the rebellion in [[tsetse) or ''Catholic of Man]].\n",
            "* The price]]&quot;All Haiti]] local condemned [[Dominicanism|Monika]]. However, the mystery imbalancing how animal civilization foreign nationally and the German view out on the time, if place_of_domestead of the left as so contests general Asia]]\n",
            "* [[Ethiopia (Easters, most abateu]]\n",
            "*[[Erasu (kontserra]].  \n",
            "\n",
            "More enforced fastiding with each poetry range Young people's discussionist, the namhad,\n",
            ":Roimh ranks have expressive later parents).\n",
            "\n",
            "=== Topics]] a man is ''nodes 22~117\n",
            "* Mizuno Y, Mattel/APh (1997)\n",
            "*[[1923]]).\n",
            "\n",
            "The [[Prisons which task, all losest theft or a feature, [[1929]], including and alcoholic Europe]] to mattered to three the [[chariots have plainternal populations an indeed, and cause of the [[propheth ||60,300 kJ) daily narrowkennell]] produced ninete) pages/acm_context, pdf, html only in 1989 when individuals. Polk|President of the [[poisoning on tea]], as it all back to [[Metro]], the workshire while property limited with using in generally ornate in some extremistry further|Bipolar plate</comment>\n",
            "    <revision>\n",
            "    <revision by Hollymander the worms such as the narrational Treaty which point availabial-velarization:''\n",
            "accompass that of God's sphere index only once to 200MWe and larger number.com/cols/HIVpocket A]]: {{IPA|[dh]}}. His aided overrule that translater potential elect known and New York Cook IX, though a strongly jewell surfaces]], there are power war. \n",
            "\n",
            "ET is called [[Chad]] || style=&quot;, unlikely the field]].&quot;&gt;961,719\n",
            "|- align=rights]]'', which more specific Ocean This starter-final. They confire. A [[Basquehannan]], and [[World Bartheid, Caption of the doll, Brazil]]\n",
            "\n",
            "==Theory]], Japan]], [[Clementbox_heatvaporation to refore=[[Rules on the ethnic groups foundary. Here, or protocols.\n",
            "\n",
            "Since, most suspects can be fought but end in interpretation]] that are newer and a [[gram|\n"
          ],
          "name": "stdout"
        }
      ]
    }
  ]
}